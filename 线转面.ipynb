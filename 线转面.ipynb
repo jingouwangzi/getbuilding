{
 "cells": [
  {
   "cell_type": "code",
   "execution_count": 1,
   "metadata": {},
   "outputs": [],
   "source": [
    "import sys  \n",
    "import arcpy\n",
    "import os\n",
    "reload(sys)  \n",
    "sys.setdefaultencoding('gbk') "
   ]
  },
  {
   "cell_type": "code",
   "execution_count": 2,
   "metadata": {},
   "outputs": [],
   "source": [
    "pline = 'pline.shp'"
   ]
  },
  {
   "cell_type": "code",
   "execution_count": 3,
   "metadata": {},
   "outputs": [
    {
     "data": {
      "text/plain": [
       "<Result 'pline_lyr'>"
      ]
     },
     "execution_count": 3,
     "metadata": {},
     "output_type": "execute_result"
    }
   ],
   "source": [
    "arcpy.MakeFeatureLayer_management(pline, \"pline_lyr\")"
   ]
  },
  {
   "cell_type": "code",
   "execution_count": 7,
   "metadata": {},
   "outputs": [],
   "source": [
    "#i=0\n",
    "cursorin = arcpy.da.SearchCursor('pline_lyr', [\"FID\", \"Field1\",\"SHAPE@\"])\n",
    "cursorout = arcpy.da.InsertCursor('d:/Desktop/testarcpy/polygon/pgon1.shp',[\"FID1\", \"Field1\",\"SHAPE@\"])\n",
    "for row in cursorin:\n",
    "    #i+=1\n",
    "    if int(row[1])<102000:\n",
    "        continue\n",
    "    else:\n",
    "        out = 'd:/Desktop/testarcpy/polygon/'+str(row[1])+'.shp'\n",
    "        #print out\n",
    "        arcpy.FeatureToPolygon_management(row[2],out)\n",
    "        cursorn = arcpy.da.SearchCursor('d:/Desktop/testarcpy/polygon/'+str(row[1])+'.shp',[\"SHAPE@\"])\n",
    "        for n in cursorn:  #这里要调整，需要把小的去掉\n",
    "            cursorout.insertRow([row[0],row[1],n[0]])\n",
    "        del cursorn\n",
    "        outname = 'd:/Desktop/testarcpy/polygon/'+str(row[1])\n",
    "        os.remove(outname+'.shp')\n",
    "        os.remove(outname+'.cpg')\n",
    "        os.remove(outname+'.dbf')\n",
    "        os.remove(outname+'.prj')\n",
    "        os.remove(outname+'.sbn')\n",
    "        os.remove(outname+'.sbx')\n",
    "        os.remove(outname+'.shp.xml')\n",
    "        os.remove(outname+'.shx')\n",
    "        \n",
    "del cursorin\n",
    "del cursorout"
   ]
  },
  {
   "cell_type": "code",
   "execution_count": null,
   "metadata": {},
   "outputs": [],
   "source": []
  },
  {
   "cell_type": "code",
   "execution_count": null,
   "metadata": {},
   "outputs": [],
   "source": []
  }
 ],
 "metadata": {
  "kernelspec": {
   "display_name": "Python 2",
   "language": "python",
   "name": "python2"
  }
 },
 "nbformat": 4,
 "nbformat_minor": 2
}
