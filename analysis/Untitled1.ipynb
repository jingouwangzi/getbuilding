{
 "cells": [
  {
   "cell_type": "code",
   "execution_count": null,
   "metadata": {},
   "outputs": [],
   "source": [
    "f = open(\"building.txt\",'r')\n",
    "f2 = open(\"buildingtiqu.txt\",'w+')\n",
    "true = 'true'  #因为读取的文件里面有一些字符是true，导致转成字典后被当成变量会出错"
   ]
  },
  {
   "cell_type": "markdown",
   "metadata": {},
   "source": [
    "提取有内容的行"
   ]
  },
  {
   "cell_type": "code",
   "execution_count": null,
   "metadata": {},
   "outputs": [],
   "source": [
    "i=0\n",
    "for line in open('building.txt'):\n",
    "    line = f.readline()\n",
    "    aa = eval(line)\n",
    "    if aa['features'] != []:\n",
    "        f2.writelines(line)\n",
    "    print (i)\n",
    "    i+=1\n",
    "\n",
    "f.close()\n",
    "f2.close()"
   ]
  }
 ],
 "metadata": {
  "kernelspec": {
   "display_name": "Python 3",
   "language": "python",
   "name": "python3"
  },
  "language_info": {
   "codemirror_mode": {
    "name": "ipython",
    "version": 3
   },
   "file_extension": ".py",
   "mimetype": "text/x-python",
   "name": "python",
   "nbconvert_exporter": "python",
   "pygments_lexer": "ipython3",
   "version": "3.6.5"
  }
 },
 "nbformat": 4,
 "nbformat_minor": 2
}
