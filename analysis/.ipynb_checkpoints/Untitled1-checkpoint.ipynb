{
 "cells": [
  {
   "cell_type": "markdown",
   "metadata": {},
   "source": [
    "#居住0，202436个，\n",
    "#公共管理与公共服务1，19687个\n",
    "#商业服务设施2，20697个\n",
    "#工业3，22090个\n",
    "#物流仓储4，2487个\n",
    "#交通5，2038个\n",
    "#公共设施6，2115个\n",
    "#已拆或待拆7，28935个\n",
    "#其他8，6011个"
   ]
  },
  {
   "cell_type": "markdown",
   "metadata": {},
   "source": [
    "从网上获取的building_juzhu.txt提取有内容的行,得到buildingtiqu_juzhu.txt"
   ]
  },
  {
   "cell_type": "code",
   "execution_count": 41,
   "metadata": {},
   "outputs": [],
   "source": [
    "shuxing = 'shangye'"
   ]
  },
  {
   "cell_type": "code",
   "execution_count": 42,
   "metadata": {},
   "outputs": [],
   "source": [
    "f = open('building_'+shuxing+'.txt','r')\n",
    "f2 = open('buildingtiqu_'+shuxing+'.txt','w+')\n",
    "true = 'true'  #因为读取的文件里面有一些字符是true，导致转成字典后被当成变量会出错\n",
    "i=0\n",
    "for line in open('building_'+shuxing+'.txt'):\n",
    "    line = f.readline()\n",
    "    aa = eval(line)\n",
    "    if aa['features'] != []:\n",
    "        f2.writelines(line)\n",
    "    #print (i)\n",
    "    i+=1\n",
    "\n",
    "f.close()\n",
    "f2.close()"
   ]
  },
  {
   "cell_type": "markdown",
   "metadata": {},
   "source": [
    "从前面的buildingtiqu_juzhu.txt提取面的属性和顶点，得到buildinginfo_juzhu.txt"
   ]
  },
  {
   "cell_type": "code",
   "execution_count": 43,
   "metadata": {},
   "outputs": [],
   "source": [
    "#这里要增加一步，把属性里面的逗号去掉\n",
    "f2 = open('buildingtiqu_'+shuxing+'.txt','r')\n",
    "f3 = open('buildinginfo_'+shuxing+'.txt','w+')\n",
    "true = 'true'\n",
    "objlist = []\n",
    "for line in open('buildingtiqu_'+shuxing+'.txt'):\n",
    "    line = f2.readline()\n",
    "    aa = eval(line)\n",
    "    for a in aa['features']:\n",
    "        if a['attributes']['objectid'] in objlist:\n",
    "            continue\n",
    "        else:\n",
    "            objlist.append(a['attributes']['objectid'])\n",
    "            li = []\n",
    "            #print (a['attributes']['objectid'])\n",
    "            #下面这些行，重新写个循环简化一下\n",
    "            li.append(a['attributes']['objectid']) #长整形\n",
    "            li.append(a['attributes']['photoid'].replace(\",\", \"_\")) #字符串\n",
    "            li.append(a['attributes']['建筑名称'])#字符串\n",
    "            li.append(a['attributes']['建筑地址'])#字符串\n",
    "            li.append(a['attributes']['地上层数'])#双精度\n",
    "            li.append(a['attributes']['地下层数'])#双精度\n",
    "            li.append(a['attributes']['基底面积'])#字符串\n",
    "            li.append(a['attributes']['建筑面积'])\n",
    "            li.append(a['attributes']['建筑结构'])\n",
    "            li.append(a['attributes']['建筑用途'].replace(\",\", \"_\"))\n",
    "            li.append(a['attributes']['分层_jr'].replace(\",\", \"_\"))\n",
    "            li.append(a['attributes']['建面_jr'])\n",
    "            li.append(a['attributes']['分层_ja'])\n",
    "            li.append(a['attributes']['建面_ja'])\n",
    "            li.append(a['attributes']['分层_jb'])\n",
    "            li.append(a['attributes']['建面_jb'])\n",
    "            li.append(a['attributes']['分层_jm'])\n",
    "            li.append(a['attributes']['建面_jm'])\n",
    "            li.append(a['attributes']['分层_jw'])\n",
    "            li.append(a['attributes']['建面_jw'])\n",
    "            li.append(a['attributes']['分层_js'])\n",
    "            li.append(a['attributes']['建面_js'])\n",
    "            li.append(a['attributes']['分层_ju'])\n",
    "            li.append(a['attributes']['建面_ju'])\n",
    "            li.append(a['attributes']['分层_ff'])\n",
    "            li.append(a['attributes']['建面_ff'])\n",
    "            li.append(a['attributes']['备注'].replace(\",\", \"_\"))\n",
    "            li.append(a['attributes']['行政区'])\n",
    "            li.append(a['attributes']['环线范围'])\n",
    "            li.append(a['attributes']['shape_Length'])\n",
    "            li.append(a['attributes']['shape_Area'])\n",
    "            li.append(a['geometry']['rings'])\n",
    "            #print(li)\n",
    "            f3.writelines(str(li)+'\\n')\n",
    "f2.close()\n",
    "f3.close()"
   ]
  },
  {
   "cell_type": "markdown",
   "metadata": {},
   "source": [
    "从buildinginfo_juzhu.txt输出点坐标和面属性，得到buildinggeo_juzhu.csv，buildinggeoinfo_juzhu.csv"
   ]
  },
  {
   "cell_type": "code",
   "execution_count": 44,
   "metadata": {},
   "outputs": [],
   "source": [
    "f4 = open('buildinginfo_'+shuxing+'.txt','r')\n",
    "f5 = open('buildinggeo_'+shuxing+'.csv','w+')   #这个是要转为图形的文件\n",
    "f6 = open('buildinggeoinfo_'+shuxing+'.csv','w+')    #这个是图形相关属性，因为点集转线之后，属性就不见了，所以后面还要关联回来\n",
    "i=1\n",
    "li1 = []\n",
    "for line in open('buildinginfo_'+shuxing+'.txt'):\n",
    "    line = f4.readline()\n",
    "    aa = eval(line)\n",
    "    \n",
    "    #print li1\n",
    "\n",
    "    for n in aa[31][0]:  #点序号、点X坐标、点Y坐标\n",
    "        li2 = []\n",
    "        li2.append(n[0])\n",
    "        li2.append(n[1]-3000000)\n",
    "        #print (i,li1,n)\n",
    "        f5.writelines(str(i)+','+str(li2)[1:-1]+'\\n')\n",
    "\n",
    "    #print (type(aa))\n",
    "    li1 = aa[0:31]\n",
    "    f6.writelines(str(i)+','+str(li1)[1:-1]+'\\n')  #点的相关属性\n",
    "    #print (li1[:-2])\n",
    "    #print (str(i)+','+str(li1[:-2])[1:-1]+'\\n')\n",
    "    i+=1\n",
    "    #if i>10:\n",
    "     #   break\n",
    "\n",
    "f4.close()\n",
    "f5.close()\n",
    "f6.close()"
   ]
  },
  {
   "cell_type": "code",
   "execution_count": null,
   "metadata": {},
   "outputs": [],
   "source": []
  }
 ],
 "metadata": {
  "kernelspec": {
   "display_name": "Python 3",
   "language": "python",
   "name": "python3"
  },
  "language_info": {
   "codemirror_mode": {
    "name": "ipython",
    "version": 3
   },
   "file_extension": ".py",
   "mimetype": "text/x-python",
   "name": "python",
   "nbconvert_exporter": "python",
   "pygments_lexer": "ipython3",
   "version": "3.6.5"
  }
 },
 "nbformat": 4,
 "nbformat_minor": 2
}
