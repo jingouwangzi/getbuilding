{
 "cells": [
  {
   "cell_type": "code",
   "execution_count": 1,
   "metadata": {},
   "outputs": [],
   "source": [
    "import sys  \n",
    "import arcpy\n",
    "import os\n",
    "reload(sys)  \n",
    "sys.setdefaultencoding('gbk') "
   ]
  },
  {
   "cell_type": "code",
   "execution_count": 4,
   "metadata": {},
   "outputs": [],
   "source": [
    "'''\n",
    "pline = 'pline.shp'\n",
    "arcpy.MakeFeatureLayer_management(pline, \"pline_lyr\")\n",
    "cursorin = arcpy.da.SearchCursor('pline_lyr', [\"FID\", \"Field1\",\"SHAPE@\"])\n",
    "cursorout = arcpy.da.InsertCursor('d:/github/getbuilding/plinetopolygon/pgon1.shp',[\"FID1\", \"Field1\",\"SHAPE@\"])\n",
    "for row in cursorin:\n",
    "    #i+=1\n",
    "    out = 'd:/github/getbuilding/plinetopolygon/'+str(row[1])+'.shp'\n",
    "    #print out\n",
    "    arcpy.FeatureToPolygon_management(row[2],out)\n",
    "    cursorn = arcpy.da.SearchCursor('d:/github/getbuilding/plinetopolygon/'+str(row[1])+'.shp',[\"SHAPE@\"])\n",
    "    for n in cursorn:  \n",
    "        cursorout.insertRow([row[0],row[1],n[0]])\n",
    "    del cursorn\n",
    "    outname = 'd:/github/getbuilding/plinetopolygon/'+str(row[1])\n",
    "    os.remove(outname+'.shp')\n",
    "    os.remove(outname+'.cpg')\n",
    "    os.remove(outname+'.dbf')\n",
    "    os.remove(outname+'.prj')\n",
    "    os.remove(outname+'.sbn')\n",
    "    os.remove(outname+'.sbx')\n",
    "    os.remove(outname+'.shp.xml')\n",
    "    os.remove(outname+'.shx')\n",
    "        \n",
    "del cursorin\n",
    "del cursorout\n",
    "'''"
   ]
  },
  {
   "cell_type": "code",
   "execution_count": 6,
   "metadata": {},
   "outputs": [],
   "source": [
    "'''\n",
    "pline2 = 'pline2.shp'\n",
    "arcpy.MakeFeatureLayer_management(pline2, \"pline2_lyr\")\n",
    "cursorin = arcpy.da.SearchCursor('pline2_lyr', [\"FID\", \"Field1\",\"SHAPE@\"])\n",
    "cursorout = arcpy.da.InsertCursor('d:/github/getbuilding/plinetopolygon/pgon2.shp',[\"FID1\", \"Field1\",\"SHAPE@\"])\n",
    "for row in cursorin:\n",
    "    #i+=1\n",
    "    out = 'd:/github/getbuilding/plinetopolygon/'+str(row[1])+'.shp'\n",
    "    #print out\n",
    "    arcpy.FeatureToPolygon_management(row[2],out)\n",
    "    cursorn = arcpy.da.SearchCursor('d:/github/getbuilding/plinetopolygon/'+str(row[1])+'.shp',[\"SHAPE@\"])\n",
    "    for n in cursorn:  \n",
    "        cursorout.insertRow([row[0],row[1],n[0]])\n",
    "    del cursorn\n",
    "    outname = 'd:/github/getbuilding/plinetopolygon/'+str(row[1])\n",
    "    os.remove(outname+'.shp')\n",
    "    os.remove(outname+'.cpg')\n",
    "    os.remove(outname+'.dbf')\n",
    "    os.remove(outname+'.prj')\n",
    "    os.remove(outname+'.sbn')\n",
    "    os.remove(outname+'.sbx')\n",
    "    os.remove(outname+'.shp.xml')\n",
    "    os.remove(outname+'.shx')\n",
    "        \n",
    "del cursorin\n",
    "del cursorout\n",
    "'''"
   ]
  },
  {
   "cell_type": "code",
   "execution_count": null,
   "metadata": {},
   "outputs": [],
   "source": []
  },
  {
   "cell_type": "code",
   "execution_count": null,
   "metadata": {},
   "outputs": [],
   "source": [
    "pline = 'pline3.shp'\n",
    "arcpy.MakeFeatureLayer_management(pline, \"pline3_lyr\")"
   ]
  },
  {
   "cell_type": "code",
   "execution_count": 9,
   "metadata": {},
   "outputs": [],
   "source": [
    "\n",
    "cursorin = arcpy.da.SearchCursor('pline3_lyr', [\"FID\", \"Field1\",\"SHAPE@\"])\n",
    "cursorout = arcpy.da.InsertCursor('d:/github/getbuilding/plinetopolygon/pgon3.shp',[\"FID1\", \"Field1\",\"SHAPE@\"])\n",
    "for row in cursorin:\n",
    "    #i+=1\n",
    "    out = 'd:/github/getbuilding/plinetopolygon/'+str(row[1])+'.shp'\n",
    "    #print out\n",
    "    arcpy.FeatureToPolygon_management(row[2],out)\n",
    "    cursorn = arcpy.da.SearchCursor('d:/github/getbuilding/plinetopolygon/'+str(row[1])+'.shp',[\"SHAPE@\"])\n",
    "    for n in cursorn:  \n",
    "        cursorout.insertRow([row[0],row[1],n[0]])\n",
    "    del cursorn\n",
    "    outname = 'd:/github/getbuilding/plinetopolygon/'+str(row[1])\n",
    "    os.remove(outname+'.shp')\n",
    "    os.remove(outname+'.cpg')\n",
    "    os.remove(outname+'.dbf')\n",
    "    os.remove(outname+'.prj')\n",
    "    os.remove(outname+'.sbn')\n",
    "    os.remove(outname+'.sbx')\n",
    "    os.remove(outname+'.shp.xml')\n",
    "    os.remove(outname+'.shx')\n",
    "        \n",
    "del cursorin\n",
    "del cursorout"
   ]
  },
  {
   "cell_type": "code",
   "execution_count": null,
   "metadata": {},
   "outputs": [],
   "source": []
  }
 ],
 "metadata": {
  "kernelspec": {
   "display_name": "Python 2",
   "language": "python",
   "name": "python2"
  },
  "language_info": {
   "codemirror_mode": {
    "name": "ipython",
    "version": 2
   },
   "file_extension": ".py",
   "mimetype": "text/x-python",
   "name": "python",
   "nbconvert_exporter": "python",
   "pygments_lexer": "ipython2",
   "version": "2.7.12"
  }
 },
 "nbformat": 4,
 "nbformat_minor": 2
}
