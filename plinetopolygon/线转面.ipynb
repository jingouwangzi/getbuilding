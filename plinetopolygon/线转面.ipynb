{
 "cells": [
  {
   "cell_type": "code",
   "execution_count": 1,
   "metadata": {},
   "outputs": [],
   "source": [
    "import sys  \n",
    "import arcpy\n",
    "import os\n",
    "reload(sys)  \n",
    "sys.setdefaultencoding('gbk') "
   ]
  },
  {
   "cell_type": "code",
   "execution_count": 15,
   "metadata": {},
   "outputs": [],
   "source": [
    "pline = 'pline_qita.shp'"
   ]
  },
  {
   "cell_type": "code",
   "execution_count": 16,
   "metadata": {},
   "outputs": [
    {
     "data": {
      "text/plain": [
       "<Result 'pline4_lyr'>"
      ]
     },
     "execution_count": 16,
     "metadata": {},
     "output_type": "execute_result"
    }
   ],
   "source": [
    "arcpy.MakeFeatureLayer_management(pline, \"pline4_lyr\")"
   ]
  },
  {
   "cell_type": "code",
   "execution_count": 17,
   "metadata": {},
   "outputs": [],
   "source": [
    "#i=0\n",
    "cursorin = arcpy.da.SearchCursor('pline4_lyr', [\"FID\", \"Field1\",\"SHAPE@\"])\n",
    "cursorout = arcpy.da.InsertCursor('d:/github/getbuilding/plinetopolygon/polygon_qita.shp',[\"FID1\", \"pointid\",\"objectid\",\"SHAPE@\"])\n",
    "for row in cursorin:\n",
    "    out = 'd:/github/getbuilding/plinetopolygon/'+str(row[1])+'.shp'\n",
    "    #print out\n",
    "    arcpy.FeatureToPolygon_management(row[2],out)\n",
    "    cursorn = arcpy.da.SearchCursor('d:/github/getbuilding/plinetopolygon/'+str(row[1])+'.shp',[\"SHAPE@\"])\n",
    "    for n in cursorn:  #这里要调整，需要把小的去掉\n",
    "        cursorout.insertRow([row[0],row[1],row[1]/1000,n[0]])\n",
    "    del cursorn\n",
    "    outname = 'd:/github/getbuilding/plinetopolygon/'+str(row[1])\n",
    "    os.remove(outname+'.shp')\n",
    "    os.remove(outname+'.cpg')\n",
    "    os.remove(outname+'.dbf')\n",
    "    os.remove(outname+'.prj')\n",
    "    os.remove(outname+'.sbn')\n",
    "    os.remove(outname+'.sbx')\n",
    "    os.remove(outname+'.shp.xml')\n",
    "    os.remove(outname+'.shx')\n",
    "            \n",
    "del cursorin\n",
    "del cursorout"
   ]
  },
  {
   "cell_type": "code",
   "execution_count": null,
   "metadata": {},
   "outputs": [],
   "source": [
    "pline = 'pline_gongye.shp'\n",
    "arcpy.MakeFeatureLayer_management(pline, \"pline5_lyr\")"
   ]
  },
  {
   "cell_type": "code",
   "execution_count": 19,
   "metadata": {},
   "outputs": [],
   "source": [
    "\n",
    "cursorin = arcpy.da.SearchCursor('pline5_lyr', [\"FID\", \"Field1\",\"SHAPE@\"])\n",
    "cursorout = arcpy.da.InsertCursor('d:/github/getbuilding/plinetopolygon/polygon_gongye.shp',[\"FID1\", \"pointid\",\"objectid\",\"SHAPE@\"])\n",
    "for row in cursorin:\n",
    "    if row[1]/1000<99562:\n",
    "        continue\n",
    "    else:\n",
    "        out = 'd:/github/getbuilding/plinetopolygon/'+str(row[1])+'.shp'\n",
    "        #print out\n",
    "        arcpy.FeatureToPolygon_management(row[2],out)\n",
    "        cursorn = arcpy.da.SearchCursor('d:/github/getbuilding/plinetopolygon/'+str(row[1])+'.shp',[\"SHAPE@\"])\n",
    "        for n in cursorn:  #这里要调整，需要把小的去掉\n",
    "            cursorout.insertRow([row[0],row[1],row[1]/1000,n[0]])\n",
    "        del cursorn\n",
    "        outname = 'd:/github/getbuilding/plinetopolygon/'+str(row[1])\n",
    "        os.remove(outname+'.shp')\n",
    "        os.remove(outname+'.cpg')\n",
    "        os.remove(outname+'.dbf')\n",
    "        os.remove(outname+'.prj')\n",
    "        os.remove(outname+'.sbn')\n",
    "        os.remove(outname+'.sbx')\n",
    "        os.remove(outname+'.shp.xml')\n",
    "        os.remove(outname+'.shx')\n",
    "            \n",
    "del cursorin\n",
    "del cursorout"
   ]
  },
  {
   "cell_type": "code",
   "execution_count": null,
   "metadata": {},
   "outputs": [],
   "source": []
  }
 ],
 "metadata": {
  "kernelspec": {
   "display_name": "Python 2",
   "language": "python",
   "name": "python2"
  },
  "language_info": {
   "codemirror_mode": {
    "name": "ipython",
    "version": 2
   },
   "file_extension": ".py",
   "mimetype": "text/x-python",
   "name": "python",
   "nbconvert_exporter": "python",
   "pygments_lexer": "ipython2",
   "version": "2.7.12"
  }
 },
 "nbformat": 4,
 "nbformat_minor": 2
}
