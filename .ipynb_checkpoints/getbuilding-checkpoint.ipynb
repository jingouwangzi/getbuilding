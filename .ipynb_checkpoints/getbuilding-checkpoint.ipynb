{
 "cells": [
  {
   "cell_type": "code",
   "execution_count": 11,
   "metadata": {},
   "outputs": [],
   "source": [
    "import requests\n",
    "#import pandas as pd\n",
    "#import numpy as np\n",
    "#from pandas import Series,DataFrame"
   ]
  },
  {
   "cell_type": "code",
   "execution_count": 12,
   "metadata": {},
   "outputs": [],
   "source": [
    "up = 419028.309447\n",
    "down = 3323592.787018\n",
    "left = 496496.775569\n",
    "right = 3577306.412252\n",
    "\n",
    "xxx = [left]\n",
    "xx = round(left,0)\n",
    "for i in range(0,160):\n",
    "    xx +=500\n",
    "    xxx.append(xx)\n",
    "xxx.append(right)\n",
    "#print (xxx)\n",
    "yyy = [down]\n",
    "yy = round(down,0)\n",
    "for i in range(0,189):\n",
    "    yy+= 500\n",
    "    yyy.append(yy)\n",
    "    #print (yy)\n",
    "yyy.append(up)\n",
    "#print (yyy)\n",
    "#print ('len xxx:',len(xxx),'len yyy:',len(yyy))\n",
    "\n",
    "matrix = [[0 for i in range(162)] for i in range(191)]\n",
    "for i in range(0,191):\n",
    "    for j in range(0,162):\n",
    "        matrix[i][j] = (xxx[j],yyy[i])"
   ]
  },
  {
   "cell_type": "code",
   "execution_count": 13,
   "metadata": {
    "scrolled": true
   },
   "outputs": [
    {
     "data": {
      "text/plain": [
       "'\\nfor i in range(0,190):\\n    for j in range(0,161):\\n        print (matrix[i][j],matrix[i+1][j+1])\\n'"
      ]
     },
     "execution_count": 13,
     "metadata": {},
     "output_type": "execute_result"
    }
   ],
   "source": [
    "'''\n",
    "for i in range(0,162):\n",
    "    for j in range(0,191):\n",
    "        a = str(xxx[i])+','+str(yyy[j])\n",
    "        print (a)\n",
    "'''        \n",
    "#162列，191行\n",
    "'''\n",
    "for i in range(0,190):\n",
    "    for j in range(0,161):\n",
    "        print (matrix[i][j],matrix[i+1][j+1])\n",
    "'''"
   ]
  },
  {
   "cell_type": "code",
   "execution_count": 14,
   "metadata": {},
   "outputs": [
    {
     "data": {
      "text/plain": [
       "'\\n\\nurl_juzhu = \\'http://sg.wpl:8888/arcgis/rest/services/%E8%A6%81%E7%B4%A0%E6%9C%8D%E5%8A%A1/jz1/MapServer/0/query\\'\\ndef creat_para_juzhu(leftdown,rightup):\\n    para = {\\n    \\'f\\':\\'json\\',\\n    \\'returnGeometry\\':\\'true\\',\\n    \\'spatialRel\\':\\'esriSpatialRelIntersects\\',\\n    \\'maxAllowableOffset\\':\\'0\\',\\n    \\'geometry\\':\\'{\"xmin\":\\'+str(leftdown[0])+\\',\"ymin\":\\'+str(leftdown[1])+\\',\"xmax\":\\'+str(rightup[0])+\\',\"ymax\":\\'+str(rightup[1])+\\',\"spatialReference\":{\"wkid\":2435,\"latestWkid\":2435}}\\',\\n    \\'geometryType\\':\\'esriGeometryEnvelope\\',\\n    \\'inSR\\':\\'2435\\',\\n    \\'outFields\\':\\'*\\',\\n    \\'outSR\\':\\'2435\\'\\n    }\\n    return para\\nf = open(\\'juzhu.txt\\',\\'w+\\')\\nfor i in range(0,190):\\n    for j in range(0,161):\\n        res = requests.get(url_juzhu,params=creat_para_juzhu(matrix[i][j],matrix[i+1][j+1]))\\n        f.writelines(res.text)\\n        f.writelines(\\'\\n\\')\\nf.close()\\n'"
      ]
     },
     "execution_count": 14,
     "metadata": {},
     "output_type": "execute_result"
    }
   ],
   "source": [
    "\n",
    "#居住0，202436个，\n",
    "#公共管理与公共服务1，19687个\n",
    "#商业服务设施2，20697个\n",
    "#工业3，22090个\n",
    "#物流仓储4，2487个\n",
    "#交通5，2038个\n",
    "#公共设施6，2115个\n",
    "#已拆或待拆7，28935个\n",
    "#其他8，6011个\n",
    "'''\n",
    "\n",
    "url_juzhu = 'http://sg.wpl:8888/arcgis/rest/services/%E8%A6%81%E7%B4%A0%E6%9C%8D%E5%8A%A1/jz1/MapServer/0/query'\n",
    "def creat_para_juzhu(leftdown,rightup):\n",
    "    para = {\n",
    "    'f':'json',\n",
    "    'returnGeometry':'true',\n",
    "    'spatialRel':'esriSpatialRelIntersects',\n",
    "    'maxAllowableOffset':'0',\n",
    "    'geometry':'{\"xmin\":'+str(leftdown[0])+',\"ymin\":'+str(leftdown[1])+',\"xmax\":'+str(rightup[0])+',\"ymax\":'+str(rightup[1])+',\"spatialReference\":{\"wkid\":2435,\"latestWkid\":2435}}',\n",
    "    'geometryType':'esriGeometryEnvelope',\n",
    "    'inSR':'2435',\n",
    "    'outFields':'*',\n",
    "    'outSR':'2435'\n",
    "    }\n",
    "    return para\n",
    "f = open('juzhu.txt','w+')\n",
    "for i in range(0,190):\n",
    "    for j in range(0,161):\n",
    "        res = requests.get(url_juzhu,params=creat_para_juzhu(matrix[i][j],matrix[i+1][j+1]))\n",
    "        f.writelines(res.text)\n",
    "        f.writelines('\\n')\n",
    "f.close()\n",
    "'''"
   ]
  },
  {
   "cell_type": "code",
   "execution_count": 15,
   "metadata": {},
   "outputs": [],
   "source": [
    "url_shangye = 'http://sg.wpl:8888/arcgis/rest/services/%E8%A6%81%E7%B4%A0%E6%9C%8D%E5%8A%A1/jz1/MapServer/2/query'\n",
    "def creat_para_shangye(leftdown,rightup):\n",
    "    para = {\n",
    "    'f':'json',\n",
    "    'returnGeometry':'true',\n",
    "    'spatialRel':'esriSpatialRelIntersects',\n",
    "    'maxAllowableOffset':'1',\n",
    "    'geometry':'{\"xmin\":'+str(leftdown[0])+',\"ymin\":'+str(leftdown[1])+',\"xmax\":'+str(rightup[0])+',\"ymax\":'+str(rightup[1])+',\"spatialReference\":{\"wkid\":2435,\"latestWkid\":2435}}',\n",
    "    'geometryType':'esriGeometryEnvelope',\n",
    "    'inSR':'2435',\n",
    "    'outFields':'*',\n",
    "    'outSR':'2435'\n",
    "    }\n",
    "    return para\n",
    "f = open('shangye.txt','w+')\n",
    "for i in range(0,190):\n",
    "    for j in range(0,161):\n",
    "        res = requests.get(url_shangye,params=creat_para_shangye(matrix[i][j],matrix[i+1][j+1]))\n",
    "        f.writelines(res.text)\n",
    "        f.writelines('\\n')\n",
    "f.close()"
   ]
  },
  {
   "cell_type": "code",
   "execution_count": 16,
   "metadata": {},
   "outputs": [],
   "source": [
    "url_gonggongguanli = 'http://sg.wpl:8888/arcgis/rest/services/%E8%A6%81%E7%B4%A0%E6%9C%8D%E5%8A%A1/jz1/MapServer/1/query'\n",
    "def creat_para_gonggongguanli(leftdown,rightup):\n",
    "    para = {\n",
    "    'f':'json',\n",
    "    'returnGeometry':'true',\n",
    "    'spatialRel':'esriSpatialRelIntersects',\n",
    "    'maxAllowableOffset':'1',\n",
    "    'geometry':'{\"xmin\":'+str(leftdown[0])+',\"ymin\":'+str(leftdown[1])+',\"xmax\":'+str(rightup[0])+',\"ymax\":'+str(rightup[1])+',\"spatialReference\":{\"wkid\":2435,\"latestWkid\":2435}}',\n",
    "    'geometryType':'esriGeometryEnvelope',\n",
    "    'inSR':'2435',\n",
    "    'outFields':'*',\n",
    "    'outSR':'2435'\n",
    "    }\n",
    "    return para\n",
    "f = open('gonggongguanli.txt','w+')\n",
    "for i in range(0,190):\n",
    "    for j in range(0,161):\n",
    "        res = requests.get(url_gonggongguanli,params=creat_para_gonggongguanli(matrix[i][j],matrix[i+1][j+1]))\n",
    "        f.writelines(res.text)\n",
    "        f.writelines('\\n')\n",
    "f.close()"
   ]
  },
  {
   "cell_type": "code",
   "execution_count": 17,
   "metadata": {},
   "outputs": [],
   "source": [
    "url_gonggongsheshi = 'http://sg.wpl:8888/arcgis/rest/services/要素服务/jz1/MapServer/6/query'\n",
    "def creat_para_gonggongsheshi(leftdown,rightup):\n",
    "    para = {\n",
    "    'f':'json',\n",
    "    'returnGeometry':'true',\n",
    "    'spatialRel':'esriSpatialRelIntersects',\n",
    "    'maxAllowableOffset':'1',\n",
    "    'geometry':'{\"xmin\":'+str(leftdown[0])+',\"ymin\":'+str(leftdown[1])+',\"xmax\":'+str(rightup[0])+',\"ymax\":'+str(rightup[1])+',\"spatialReference\":{\"wkid\":2435,\"latestWkid\":2435}}',\n",
    "    'geometryType':'esriGeometryEnvelope',\n",
    "    'inSR':'2435',\n",
    "    'outFields':'*',\n",
    "    'outSR':'2435'\n",
    "    }\n",
    "    return para\n",
    "f = open('gonggongsheshi.txt','w+')\n",
    "for i in range(0,190):\n",
    "    for j in range(0,161):\n",
    "        res = requests.get(url_gonggongsheshi,params=creat_para_gonggongsheshi(matrix[i][j],matrix[i+1][j+1]))\n",
    "        f.writelines(res.text)\n",
    "        f.writelines('\\n')\n",
    "f.close()"
   ]
  },
  {
   "cell_type": "code",
   "execution_count": 18,
   "metadata": {},
   "outputs": [],
   "source": [
    "url_gongye = 'http://sg.wpl:8888/arcgis/rest/services/要素服务/jz1/MapServer/3/query'\n",
    "def creat_para_gongye(leftdown,rightup):\n",
    "    para = {\n",
    "    'f':'json',\n",
    "    'returnGeometry':'true',\n",
    "    'spatialRel':'esriSpatialRelIntersects',\n",
    "    'maxAllowableOffset':'2',\n",
    "    'geometry':'{\"xmin\":'+str(leftdown[0])+',\"ymin\":'+str(leftdown[1])+',\"xmax\":'+str(rightup[0])+',\"ymax\":'+str(rightup[1])+',\"spatialReference\":{\"wkid\":2435,\"latestWkid\":2435}}',\n",
    "    'geometryType':'esriGeometryEnvelope',\n",
    "    'inSR':'2435',\n",
    "    'outFields':'*',\n",
    "    'outSR':'2435'\n",
    "    }\n",
    "    return para\n",
    "f = open('gongye.txt','w+')\n",
    "for i in range(0,190):\n",
    "    for j in range(0,161):\n",
    "        res = requests.get(url_gongye,params=creat_para_gongye(matrix[i][j],matrix[i+1][j+1]))\n",
    "        f.writelines(res.text)\n",
    "        f.writelines('\\n')\n",
    "f.close()"
   ]
  },
  {
   "cell_type": "code",
   "execution_count": 19,
   "metadata": {},
   "outputs": [],
   "source": [
    "url_wuliu = 'http://sg.wpl:8888/arcgis/rest/services/要素服务/jz1/MapServer/4/query'\n",
    "def creat_para_wuliu(leftdown,rightup):\n",
    "    para = {\n",
    "    'f':'json',\n",
    "    'returnGeometry':'true',\n",
    "    'spatialRel':'esriSpatialRelIntersects',\n",
    "    'maxAllowableOffset':'2',\n",
    "    'geometry':'{\"xmin\":'+str(leftdown[0])+',\"ymin\":'+str(leftdown[1])+',\"xmax\":'+str(rightup[0])+',\"ymax\":'+str(rightup[1])+',\"spatialReference\":{\"wkid\":2435,\"latestWkid\":2435}}',\n",
    "    'geometryType':'esriGeometryEnvelope',\n",
    "    'inSR':'2435',\n",
    "    'outFields':'*',\n",
    "    'outSR':'2435'\n",
    "    }\n",
    "    return para\n",
    "f = open('wuliu.txt','w+')\n",
    "for i in range(0,190):\n",
    "    for j in range(0,161):\n",
    "        res = requests.get(url_wuliu,params=creat_para_wuliu(matrix[i][j],matrix[i+1][j+1]))\n",
    "        f.writelines(res.text)\n",
    "        f.writelines('\\n')\n",
    "f.close()"
   ]
  },
  {
   "cell_type": "code",
   "execution_count": 20,
   "metadata": {},
   "outputs": [
    {
     "ename": "NameError",
     "evalue": "name 'creat_para_chaiqian' is not defined",
     "output_type": "error",
     "traceback": [
      "\u001b[1;31m---------------------------------------------------------------------------\u001b[0m",
      "\u001b[1;31mNameError\u001b[0m                                 Traceback (most recent call last)",
      "\u001b[1;32m<ipython-input-20-8243c8cbf301>\u001b[0m in \u001b[0;36m<module>\u001b[1;34m()\u001b[0m\n\u001b[0;32m     16\u001b[0m \u001b[1;32mfor\u001b[0m \u001b[0mi\u001b[0m \u001b[1;32min\u001b[0m \u001b[0mrange\u001b[0m\u001b[1;33m(\u001b[0m\u001b[1;36m0\u001b[0m\u001b[1;33m,\u001b[0m\u001b[1;36m190\u001b[0m\u001b[1;33m)\u001b[0m\u001b[1;33m:\u001b[0m\u001b[1;33m\u001b[0m\u001b[0m\n\u001b[0;32m     17\u001b[0m     \u001b[1;32mfor\u001b[0m \u001b[0mj\u001b[0m \u001b[1;32min\u001b[0m \u001b[0mrange\u001b[0m\u001b[1;33m(\u001b[0m\u001b[1;36m0\u001b[0m\u001b[1;33m,\u001b[0m\u001b[1;36m161\u001b[0m\u001b[1;33m)\u001b[0m\u001b[1;33m:\u001b[0m\u001b[1;33m\u001b[0m\u001b[0m\n\u001b[1;32m---> 18\u001b[1;33m         \u001b[0mres\u001b[0m \u001b[1;33m=\u001b[0m \u001b[0mrequests\u001b[0m\u001b[1;33m.\u001b[0m\u001b[0mget\u001b[0m\u001b[1;33m(\u001b[0m\u001b[0murl_chaiqian\u001b[0m\u001b[1;33m,\u001b[0m\u001b[0mparams\u001b[0m\u001b[1;33m=\u001b[0m\u001b[0mcreat_para_chaiqian\u001b[0m\u001b[1;33m(\u001b[0m\u001b[0mmatrix\u001b[0m\u001b[1;33m[\u001b[0m\u001b[0mi\u001b[0m\u001b[1;33m]\u001b[0m\u001b[1;33m[\u001b[0m\u001b[0mj\u001b[0m\u001b[1;33m]\u001b[0m\u001b[1;33m,\u001b[0m\u001b[0mmatrix\u001b[0m\u001b[1;33m[\u001b[0m\u001b[0mi\u001b[0m\u001b[1;33m+\u001b[0m\u001b[1;36m1\u001b[0m\u001b[1;33m]\u001b[0m\u001b[1;33m[\u001b[0m\u001b[0mj\u001b[0m\u001b[1;33m+\u001b[0m\u001b[1;36m1\u001b[0m\u001b[1;33m]\u001b[0m\u001b[1;33m)\u001b[0m\u001b[1;33m)\u001b[0m\u001b[1;33m\u001b[0m\u001b[0m\n\u001b[0m\u001b[0;32m     19\u001b[0m         \u001b[0mf\u001b[0m\u001b[1;33m.\u001b[0m\u001b[0mwritelines\u001b[0m\u001b[1;33m(\u001b[0m\u001b[0mres\u001b[0m\u001b[1;33m.\u001b[0m\u001b[0mtext\u001b[0m\u001b[1;33m)\u001b[0m\u001b[1;33m\u001b[0m\u001b[0m\n\u001b[0;32m     20\u001b[0m         \u001b[0mf\u001b[0m\u001b[1;33m.\u001b[0m\u001b[0mwritelines\u001b[0m\u001b[1;33m(\u001b[0m\u001b[1;34m'\\n'\u001b[0m\u001b[1;33m)\u001b[0m\u001b[1;33m\u001b[0m\u001b[0m\n",
      "\u001b[1;31mNameError\u001b[0m: name 'creat_para_chaiqian' is not defined"
     ]
    }
   ],
   "source": [
    "#从这里开始暂时还没跑\n",
    "url_chaiqian = 'http://sg.wpl:8888/arcgis/rest/services/要素服务/jz1/MapServer/7/query'\n",
    "def creat_para_chaiqian(leftdown,rightup):\n",
    "    para = {\n",
    "    'f':'json',\n",
    "    'returnGeometry':'true',\n",
    "    'spatialRel':'esriSpatialRelIntersects',\n",
    "    'maxAllowableOffset':'2',\n",
    "    'geometry':'{\"xmin\":'+str(leftdown[0])+',\"ymin\":'+str(leftdown[1])+',\"xmax\":'+str(rightup[0])+',\"ymax\":'+str(rightup[1])+',\"spatialReference\":{\"wkid\":2435,\"latestWkid\":2435}}',\n",
    "    'geometryType':'esriGeometryEnvelope',\n",
    "    'inSR':'2435',\n",
    "    'outFields':'*',\n",
    "    'outSR':'2435'\n",
    "    }\n",
    "    return para\n",
    "f = open('chaiqian.txt','w+')\n",
    "for i in range(0,190):\n",
    "    for j in range(0,161):\n",
    "        res = requests.get(url_chaiqian,params=creat_para_chaiqian(matrix[i][j],matrix[i+1][j+1]))\n",
    "        f.writelines(res.text)\n",
    "        f.writelines('\\n')\n",
    "f.close()"
   ]
  },
  {
   "cell_type": "code",
   "execution_count": null,
   "metadata": {},
   "outputs": [],
   "source": [
    "url_qita = 'http://sg.wpl:8888/arcgis/rest/services/要素服务/jz1/MapServer/8/query'\n",
    "def creat_para_qita(leftdown,rightup):\n",
    "    para = {\n",
    "    'f':'json',\n",
    "    'returnGeometry':'true',\n",
    "    'spatialRel':'esriSpatialRelIntersects',\n",
    "    'maxAllowableOffset':'2',\n",
    "    'geometry':'{\"xmin\":'+str(leftdown[0])+',\"ymin\":'+str(leftdown[1])+',\"xmax\":'+str(rightup[0])+',\"ymax\":'+str(rightup[1])+',\"spatialReference\":{\"wkid\":2435,\"latestWkid\":2435}}',\n",
    "    'geometryType':'esriGeometryEnvelope',\n",
    "    'inSR':'2435',\n",
    "    'outFields':'*',\n",
    "    'outSR':'2435'\n",
    "    }\n",
    "    return para\n",
    "f = open('qita.txt','w+')\n",
    "for i in range(0,190):\n",
    "    for j in range(0,161):\n",
    "        res = requests.get(url_qita,params=creat_para_qita(matrix[i][j],matrix[i+1][j+1]))\n",
    "        f.writelines(res.text)\n",
    "        f.writelines('\\n')\n",
    "f.close()"
   ]
  },
  {
   "cell_type": "code",
   "execution_count": null,
   "metadata": {},
   "outputs": [],
   "source": [
    "url_jiaotong = 'http://sg.wpl:8888/arcgis/rest/services/要素服务/jz1/MapServer/5/query'\n",
    "def creat_para_jiaotong(leftdown,rightup):\n",
    "    para = {\n",
    "    'f':'json',\n",
    "    'returnGeometry':'true',\n",
    "    'spatialRel':'esriSpatialRelIntersects',\n",
    "    'maxAllowableOffset':'2',\n",
    "    'geometry':'{\"xmin\":'+str(leftdown[0])+',\"ymin\":'+str(leftdown[1])+',\"xmax\":'+str(rightup[0])+',\"ymax\":'+str(rightup[1])+',\"spatialReference\":{\"wkid\":2435,\"latestWkid\":2435}}',\n",
    "    'geometryType':'esriGeometryEnvelope',\n",
    "    'inSR':'2435',\n",
    "    'outFields':'*',\n",
    "    'outSR':'2435'\n",
    "    }\n",
    "    return para\n",
    "f = open('jiaotong.txt','w+')\n",
    "for i in range(0,190):\n",
    "    for j in range(0,161):\n",
    "        res = requests.get(url_jiaotong,params=creat_para_jiaotong(matrix[i][j],matrix[i+1][j+1]))\n",
    "        f.writelines(res.text)\n",
    "        f.writelines('\\n')\n",
    "f.close()"
   ]
  },
  {
   "cell_type": "code",
   "execution_count": null,
   "metadata": {},
   "outputs": [],
   "source": []
  },
  {
   "cell_type": "code",
   "execution_count": null,
   "metadata": {},
   "outputs": [],
   "source": []
  }
 ],
 "metadata": {
  "kernelspec": {
   "display_name": "Python 3",
   "language": "python",
   "name": "python3"
  },
  "language_info": {
   "codemirror_mode": {
    "name": "ipython",
    "version": 3
   },
   "file_extension": ".py",
   "mimetype": "text/x-python",
   "name": "python",
   "nbconvert_exporter": "python",
   "pygments_lexer": "ipython3",
   "version": "3.6.5"
  }
 },
 "nbformat": 4,
 "nbformat_minor": 2
}
